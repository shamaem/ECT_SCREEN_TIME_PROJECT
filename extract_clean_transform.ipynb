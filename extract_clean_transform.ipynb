{
 "cells": [
  {
   "cell_type": "code",
   "execution_count": 2,
   "id": "9cecb853-3eb7-4bab-9090-26450b435338",
   "metadata": {},
   "outputs": [
    {
     "name": "stdout",
     "output_type": "stream",
     "text": [
      "   Age Gender Screen Time Type Day Type  Average Screen Time (hours)  \\\n",
      "0    5   Male      Educational  Weekday                         0.44   \n",
      "1    5   Male     Recreational  Weekday                         1.11   \n",
      "2    5   Male            Total  Weekday                         1.55   \n",
      "3    5   Male      Educational  Weekend                         0.50   \n",
      "4    5   Male     Recreational  Weekend                         1.44   \n",
      "\n",
      "   Sample Size  Gender_Code  Is_Weekend  Normalized_Screen_Time  \n",
      "0          500            1           0                0.000000  \n",
      "1          500            1           0                0.086452  \n",
      "2          500            1           0                0.143226  \n",
      "3          500            1           1                0.007742  \n",
      "4          500            1           1                0.129032  \n"
     ]
    }
   ],
   "source": [
    "# Import necessary libraries\n",
    "import pandas as pd\n",
    "import numpy as np\n",
    "\n",
    "# Step 1: Extract - Load the data\n",
    "df = pd.read_csv(\"screen_time.csv\")  \n",
    "\n",
    "# Step 2: Cleanse\n",
    "# Remove duplicate rows\n",
    "df = df.drop_duplicates()\n",
    "\n",
    "# Check and handle missing values \n",
    "df = df.dropna()  \n",
    "\n",
    "# Step 3: Transform\n",
    "# Convert Gender to numeric codes\n",
    "df['Gender_Code'] = df['Gender'].astype('category').cat.codes\n",
    "\n",
    "# Create binary flag for Weekend vs Weekday\n",
    "df['Is_Weekend'] = df['Day Type'].apply(lambda x: 1 if x == 'Weekend' else 0)\n",
    "\n",
    "# Normalize the screen time column between 0 and 1\n",
    "df['Normalized_Screen_Time'] = (\n",
    "    (df['Average Screen Time (hours)'] - df['Average Screen Time (hours)'].min()) /\n",
    "    (df['Average Screen Time (hours)'].max() - df['Average Screen Time (hours)'].min())\n",
    ")\n",
    "\n",
    "# Preview the transformed dataset\n",
    "print(df.head())"
   ]
  },
  {
   "cell_type": "code",
   "execution_count": null,
   "id": "c81c37df-06c7-49cd-bec0-aad5d5b98911",
   "metadata": {},
   "outputs": [],
   "source": []
  }
 ],
 "metadata": {
  "kernelspec": {
   "display_name": "Python 3 (ipykernel)",
   "language": "python",
   "name": "python3"
  },
  "language_info": {
   "codemirror_mode": {
    "name": "ipython",
    "version": 3
   },
   "file_extension": ".py",
   "mimetype": "text/x-python",
   "name": "python",
   "nbconvert_exporter": "python",
   "pygments_lexer": "ipython3",
   "version": "3.13.3"
  }
 },
 "nbformat": 4,
 "nbformat_minor": 5
}
